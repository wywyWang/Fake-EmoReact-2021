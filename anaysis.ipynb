{
 "metadata": {
  "language_info": {
   "codemirror_mode": {
    "name": "ipython",
    "version": 3
   },
   "file_extension": ".py",
   "mimetype": "text/x-python",
   "name": "python",
   "nbconvert_exporter": "python",
   "pygments_lexer": "ipython3",
   "version": "3.8.8"
  },
  "orig_nbformat": 2,
  "kernelspec": {
   "name": "python388jvsc74a57bd072fce6a4c556ace16c3b51a4582116de2541a0aca6158266ce944b5e3f16884c",
   "display_name": "Python 3.8.8 64-bit ('NLP_final': conda)"
  }
 },
 "nbformat": 4,
 "nbformat_minor": 2,
 "cells": [
  {
   "cell_type": "code",
   "execution_count": null,
   "metadata": {},
   "outputs": [],
   "source": [
    "import pandas as pd\n",
    "import json\n",
    "import numpy as np\n",
    "from cleaner import *"
   ]
  },
  {
   "cell_type": "code",
   "execution_count": null,
   "metadata": {},
   "outputs": [],
   "source": [
    "# df_train = read_json('./processed_data/preprocess_train.json')\n",
    "# df_dev = read_json('./processed_data/preprocess_my_dev.json')\n",
    "# df_test = read_json('./processed_data/preprocess_eval.json')\n",
    "df_train = read_json('./original_data/train.json')\n",
    "df_dev = read_json('./processed_data/my_dev.json')\n",
    "df_test = read_json('./original_data/eval.json')\n",
    "print(\"Number of training data: {}\".format(df_train.shape[0]))\n",
    "print(\"Number of developing data: {}\".format(df_dev.shape[0]))\n",
    "print(\"Number of testing data: {}\".format(df_test.shape[0]))"
   ]
  },
  {
   "cell_type": "code",
   "execution_count": null,
   "metadata": {},
   "outputs": [],
   "source": [
    "category = {\n",
    "    'fake': 0,\n",
    "    'real': 1\n",
    "}\n",
    "df_train['label'] = df_train['label'].map(category)\n",
    "df_dev['label'] = df_dev['label'].map(category)"
   ]
  },
  {
   "cell_type": "code",
   "execution_count": null,
   "metadata": {
    "tags": []
   },
   "outputs": [],
   "source": [
    "# df_train[df_train['label'] == 0]['idx'].value_counts()\n",
    "# for each in df_train[df_train['idx'] == 21934].values:\n",
    "#     print(each[4])\n",
    "df_train[df_train['idx'] == 21934]"
   ]
  },
  {
   "cell_type": "code",
   "execution_count": null,
   "metadata": {},
   "outputs": [],
   "source": [
    "df_train[df_train['label'] == 1]['context_idx'].value_counts(), df_dev[df_dev['label'] == 1]['context_idx'].value_counts()"
   ]
  },
  {
   "cell_type": "code",
   "execution_count": null,
   "metadata": {},
   "outputs": [],
   "source": [
    "df_train['label'].value_counts(), df_dev['label'].value_counts()"
   ]
  },
  {
   "cell_type": "code",
   "execution_count": null,
   "metadata": {},
   "outputs": [],
   "source": [
    "# df_my_gold = pd.read_csv('./my_gold_dev.csv')\n",
    "# df_dev['label'] = df_my_gold['label']\n",
    "# df_dev.to_json('my_dev.json', orient='records')"
   ]
  },
  {
   "cell_type": "code",
   "execution_count": null,
   "metadata": {},
   "outputs": [],
   "source": []
  },
  {
   "cell_type": "code",
   "execution_count": null,
   "metadata": {},
   "outputs": [],
   "source": [
    "label = []\n",
    "for i in range(len(df_test)):\n",
    "    if df_test['context_idx'][i] == 0:\n",
    "        label.append('real')\n",
    "    else:\n",
    "        label.append('fake')\n",
    "df_test['label'] = label\n",
    "print(df_test['label'].value_counts())\n",
    "df_test[['idx', 'context_idx', 'label']].to_csv('eval.csv', index=False)"
   ]
  },
  {
   "cell_type": "code",
   "execution_count": null,
   "metadata": {},
   "outputs": [],
   "source": []
  },
  {
   "cell_type": "code",
   "execution_count": null,
   "metadata": {},
   "outputs": [],
   "source": [
    "# same idx will contain the same label\n",
    "df_predicted = pd.read_csv('my_gold_dev.csv')\n",
    "df_predicted['label'].value_counts()"
   ]
  },
  {
   "cell_type": "code",
   "execution_count": null,
   "metadata": {
    "tags": []
   },
   "outputs": [],
   "source": [
    "diff, diff_with_root = 0, 0\n",
    "for idx in df_predicted['idx'].unique():\n",
    "    real_fake_counts = df_predicted[df_predicted['idx'] == idx]['label'].value_counts()\n",
    "    real_fake_list = real_fake_counts.keys().to_list()\n",
    "    if len(real_fake_list) != 1:\n",
    "        # method 1: same as root\n",
    "        root = df_predicted.loc[(df_predicted['idx'] == idx) & (df_predicted['context_idx'] == 0), 'label'].tolist()[0]\n",
    "\n",
    "        # method 2: same as majority\n",
    "        majority = real_fake_list[np.argmax(real_fake_counts)]\n",
    "\n",
    "        df_predicted.loc[(df_predicted['idx'] == idx), 'label'] = majority\n",
    "        \n",
    "        if root != majority:\n",
    "            diff_with_root += 1\n",
    "\n",
    "        diff += 1\n",
    "diff, diff_with_root"
   ]
  },
  {
   "cell_type": "code",
   "execution_count": null,
   "metadata": {},
   "outputs": [],
   "source": [
    "df_predicted['label'].value_counts()\n",
    "df_predicted.to_csv('dev.csv', index=False)"
   ]
  },
  {
   "cell_type": "code",
   "execution_count": null,
   "metadata": {},
   "outputs": [],
   "source": []
  },
  {
   "cell_type": "code",
   "execution_count": null,
   "metadata": {},
   "outputs": [],
   "source": [
    "df_train['combine'] = ['[CLS] '] + df_train['text'] + [' [SEP] '] + df_train['reply'] + [' [SEP]']"
   ]
  },
  {
   "cell_type": "code",
   "execution_count": null,
   "metadata": {},
   "outputs": [],
   "source": [
    "df_train['combine'].to_csv(r'LM/training.txt', header=None, index=None, sep=' ')"
   ]
  },
  {
   "cell_type": "code",
   "execution_count": null,
   "metadata": {},
   "outputs": [],
   "source": []
  }
 ]
}