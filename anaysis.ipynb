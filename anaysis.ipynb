{
 "metadata": {
  "language_info": {
   "codemirror_mode": {
    "name": "ipython",
    "version": 3
   },
   "file_extension": ".py",
   "mimetype": "text/x-python",
   "name": "python",
   "nbconvert_exporter": "python",
   "pygments_lexer": "ipython3",
   "version": "3.8.8"
  },
  "orig_nbformat": 2,
  "kernelspec": {
   "name": "python388jvsc74a57bd072fce6a4c556ace16c3b51a4582116de2541a0aca6158266ce944b5e3f16884c",
   "display_name": "Python 3.8.8 64-bit ('NLP_final': conda)"
  }
 },
 "nbformat": 4,
 "nbformat_minor": 2,
 "cells": [
  {
   "cell_type": "code",
   "execution_count": null,
   "metadata": {},
   "outputs": [],
   "source": [
    "import pandas as pd\n",
    "import json\n",
    "from cleaner import *"
   ]
  },
  {
   "cell_type": "code",
   "execution_count": null,
   "metadata": {},
   "outputs": [],
   "source": [
    "df_train = read_json('./original_data/train.json')\n",
    "df_dev = read_json('./original_data/dev.json')\n",
    "df_test = read_json('./original_data/eval.json')\n",
    "print(\"Number of training data: {}\".format(df_train.shape[0]))\n",
    "print(\"Number of developing data: {}\".format(df_dev.shape[0]))\n",
    "print(\"Number of testing data: {}\".format(df_test.shape[0]))"
   ]
  },
  {
   "cell_type": "code",
   "execution_count": null,
   "metadata": {},
   "outputs": [],
   "source": [
    "category = {\n",
    "    'fake': 0,\n",
    "    'real': 1\n",
    "}\n",
    "df_train['label'] = df_train['label'].map(category)\n",
    "# df_dev['label'] = df_dev['label'].map(category)\n",
    "df_train['label'].head()"
   ]
  },
  {
   "cell_type": "code",
   "execution_count": null,
   "metadata": {},
   "outputs": [],
   "source": [
    "# df_my_gold = pd.read_csv('./my_gold_dev.csv')\n",
    "# df_dev['label'] = df_my_gold['label']\n",
    "# df_dev.to_json('my_dev.json', orient='records')"
   ]
  },
  {
   "cell_type": "code",
   "execution_count": null,
   "metadata": {},
   "outputs": [],
   "source": []
  },
  {
   "cell_type": "code",
   "execution_count": null,
   "metadata": {},
   "outputs": [],
   "source": []
  },
  {
   "cell_type": "code",
   "execution_count": null,
   "metadata": {},
   "outputs": [],
   "source": [
    "train_text_vocab = get_vocab(df_train['text'].values)\n",
    "train_reply_vocab = get_vocab(df_train['reply'].values)\n",
    "print(\"train text unique vocab count is: {}\".format(len(train_text_vocab)))\n",
    "print(\"train reply unique vocab count is: {}\".format(len(train_reply_vocab)))\n",
    "unknown_text = check_coverage(train_text_vocab, roberta_vocab)\n",
    "print()\n",
    "unknown_reply = check_coverage(train_reply_vocab, roberta_vocab)"
   ]
  }
 ]
}